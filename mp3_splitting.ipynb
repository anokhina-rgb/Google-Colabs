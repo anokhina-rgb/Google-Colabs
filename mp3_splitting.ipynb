{
  "nbformat": 4,
  "nbformat_minor": 0,
  "metadata": {
    "colab": {
      "provenance": [],
      "authorship_tag": "ABX9TyNmqd20Rgnl3d8UxQMjd/c/",
      "include_colab_link": true
    },
    "kernelspec": {
      "name": "python3",
      "display_name": "Python 3"
    },
    "language_info": {
      "name": "python"
    }
  },
  "cells": [
    {
      "cell_type": "markdown",
      "metadata": {
        "id": "view-in-github",
        "colab_type": "text"
      },
      "source": [
        "<a href=\"https://colab.research.google.com/github/anokhina-rgb/Google-Colabs/blob/main/mp3_splitting.ipynb\" target=\"_parent\"><img src=\"https://colab.research.google.com/assets/colab-badge.svg\" alt=\"Open In Colab\"/></a>"
      ]
    },
    {
      "cell_type": "code",
      "execution_count": null,
      "metadata": {
        "colab": {
          "base_uri": "https://localhost:8080/",
          "height": 1000
        },
        "id": "qE-H_FQ8y46P",
        "outputId": "1e3078ec-be8f-4e92-f9af-a37bc1f79cdd"
      },
      "outputs": [
        {
          "output_type": "stream",
          "name": "stdout",
          "text": [
            "  Preparing metadata (setup.py) ... \u001b[?25l\u001b[?25hdone\n",
            "\u001b[2K     \u001b[90m━━━━━━━━━━━━━━━━━━━━━━━━━━━━━━━━━━━━━━━━\u001b[0m \u001b[32m48.1/48.1 kB\u001b[0m \u001b[31m2.0 MB/s\u001b[0m eta \u001b[36m0:00:00\u001b[0m\n",
            "\u001b[2K     \u001b[90m━━━━━━━━━━━━━━━━━━━━━━━━━━━━━━━━━━━━━━\u001b[0m \u001b[32m803.2/803.2 kB\u001b[0m \u001b[31m38.8 MB/s\u001b[0m eta \u001b[36m0:00:00\u001b[0m\n",
            "\u001b[?25h  Installing build dependencies ... \u001b[?25l\u001b[?25hdone\n",
            "  Getting requirements to build wheel ... \u001b[?25l\u001b[?25hdone\n",
            "  Preparing metadata (pyproject.toml) ... \u001b[?25l\u001b[?25hdone\n",
            "\u001b[2K   \u001b[90m━━━━━━━━━━━━━━━━━━━━━━━━━━━━━━━━━━━━━━━━\u001b[0m \u001b[32m789.1/789.1 kB\u001b[0m \u001b[31m43.7 MB/s\u001b[0m eta \u001b[36m0:00:00\u001b[0m\n",
            "\u001b[?25h  Building wheel for whisper-timestamped (setup.py) ... \u001b[?25l\u001b[?25hdone\n",
            "  Building wheel for openai-whisper (pyproject.toml) ... \u001b[?25l\u001b[?25hdone\n"
          ]
        },
        {
          "output_type": "stream",
          "name": "stderr",
          "text": [
            "/usr/local/lib/python3.12/dist-packages/pydub/utils.py:300: SyntaxWarning: invalid escape sequence '\\('\n",
            "  m = re.match('([su]([0-9]{1,2})p?) \\(([0-9]{1,2}) bit\\)$', token)\n",
            "/usr/local/lib/python3.12/dist-packages/pydub/utils.py:301: SyntaxWarning: invalid escape sequence '\\('\n",
            "  m2 = re.match('([su]([0-9]{1,2})p?)( \\(default\\))?$', token)\n",
            "/usr/local/lib/python3.12/dist-packages/pydub/utils.py:310: SyntaxWarning: invalid escape sequence '\\('\n",
            "  elif re.match('(flt)p?( \\(default\\))?$', token):\n",
            "/usr/local/lib/python3.12/dist-packages/pydub/utils.py:314: SyntaxWarning: invalid escape sequence '\\('\n",
            "  elif re.match('(dbl)p?( \\(default\\))?$', token):\n"
          ]
        },
        {
          "output_type": "stream",
          "name": "stdout",
          "text": [
            "Importing the dtw module. When using in academic works please cite:\n",
            "  T. Giorgino. Computing and Visualizing Dynamic Time Warping Alignments in R: The dtw Package.\n",
            "  J. Stat. Soft., doi:10.18637/jss.v031.i07.\n",
            "\n",
            "Select MP3 files to upload:\n"
          ]
        },
        {
          "output_type": "display_data",
          "data": {
            "text/plain": [
              "<IPython.core.display.HTML object>"
            ],
            "text/html": [
              "\n",
              "     <input type=\"file\" id=\"files-2bec9791-b5ef-4597-9f51-dfd0c1cd71a4\" name=\"files[]\" multiple disabled\n",
              "        style=\"border:none\" />\n",
              "     <output id=\"result-2bec9791-b5ef-4597-9f51-dfd0c1cd71a4\">\n",
              "      Upload widget is only available when the cell has been executed in the\n",
              "      current browser session. Please rerun this cell to enable.\n",
              "      </output>\n",
              "      <script>// Copyright 2017 Google LLC\n",
              "//\n",
              "// Licensed under the Apache License, Version 2.0 (the \"License\");\n",
              "// you may not use this file except in compliance with the License.\n",
              "// You may obtain a copy of the License at\n",
              "//\n",
              "//      http://www.apache.org/licenses/LICENSE-2.0\n",
              "//\n",
              "// Unless required by applicable law or agreed to in writing, software\n",
              "// distributed under the License is distributed on an \"AS IS\" BASIS,\n",
              "// WITHOUT WARRANTIES OR CONDITIONS OF ANY KIND, either express or implied.\n",
              "// See the License for the specific language governing permissions and\n",
              "// limitations under the License.\n",
              "\n",
              "/**\n",
              " * @fileoverview Helpers for google.colab Python module.\n",
              " */\n",
              "(function(scope) {\n",
              "function span(text, styleAttributes = {}) {\n",
              "  const element = document.createElement('span');\n",
              "  element.textContent = text;\n",
              "  for (const key of Object.keys(styleAttributes)) {\n",
              "    element.style[key] = styleAttributes[key];\n",
              "  }\n",
              "  return element;\n",
              "}\n",
              "\n",
              "// Max number of bytes which will be uploaded at a time.\n",
              "const MAX_PAYLOAD_SIZE = 100 * 1024;\n",
              "\n",
              "function _uploadFiles(inputId, outputId) {\n",
              "  const steps = uploadFilesStep(inputId, outputId);\n",
              "  const outputElement = document.getElementById(outputId);\n",
              "  // Cache steps on the outputElement to make it available for the next call\n",
              "  // to uploadFilesContinue from Python.\n",
              "  outputElement.steps = steps;\n",
              "\n",
              "  return _uploadFilesContinue(outputId);\n",
              "}\n",
              "\n",
              "// This is roughly an async generator (not supported in the browser yet),\n",
              "// where there are multiple asynchronous steps and the Python side is going\n",
              "// to poll for completion of each step.\n",
              "// This uses a Promise to block the python side on completion of each step,\n",
              "// then passes the result of the previous step as the input to the next step.\n",
              "function _uploadFilesContinue(outputId) {\n",
              "  const outputElement = document.getElementById(outputId);\n",
              "  const steps = outputElement.steps;\n",
              "\n",
              "  const next = steps.next(outputElement.lastPromiseValue);\n",
              "  return Promise.resolve(next.value.promise).then((value) => {\n",
              "    // Cache the last promise value to make it available to the next\n",
              "    // step of the generator.\n",
              "    outputElement.lastPromiseValue = value;\n",
              "    return next.value.response;\n",
              "  });\n",
              "}\n",
              "\n",
              "/**\n",
              " * Generator function which is called between each async step of the upload\n",
              " * process.\n",
              " * @param {string} inputId Element ID of the input file picker element.\n",
              " * @param {string} outputId Element ID of the output display.\n",
              " * @return {!Iterable<!Object>} Iterable of next steps.\n",
              " */\n",
              "function* uploadFilesStep(inputId, outputId) {\n",
              "  const inputElement = document.getElementById(inputId);\n",
              "  inputElement.disabled = false;\n",
              "\n",
              "  const outputElement = document.getElementById(outputId);\n",
              "  outputElement.innerHTML = '';\n",
              "\n",
              "  const pickedPromise = new Promise((resolve) => {\n",
              "    inputElement.addEventListener('change', (e) => {\n",
              "      resolve(e.target.files);\n",
              "    });\n",
              "  });\n",
              "\n",
              "  const cancel = document.createElement('button');\n",
              "  inputElement.parentElement.appendChild(cancel);\n",
              "  cancel.textContent = 'Cancel upload';\n",
              "  const cancelPromise = new Promise((resolve) => {\n",
              "    cancel.onclick = () => {\n",
              "      resolve(null);\n",
              "    };\n",
              "  });\n",
              "\n",
              "  // Wait for the user to pick the files.\n",
              "  const files = yield {\n",
              "    promise: Promise.race([pickedPromise, cancelPromise]),\n",
              "    response: {\n",
              "      action: 'starting',\n",
              "    }\n",
              "  };\n",
              "\n",
              "  cancel.remove();\n",
              "\n",
              "  // Disable the input element since further picks are not allowed.\n",
              "  inputElement.disabled = true;\n",
              "\n",
              "  if (!files) {\n",
              "    return {\n",
              "      response: {\n",
              "        action: 'complete',\n",
              "      }\n",
              "    };\n",
              "  }\n",
              "\n",
              "  for (const file of files) {\n",
              "    const li = document.createElement('li');\n",
              "    li.append(span(file.name, {fontWeight: 'bold'}));\n",
              "    li.append(span(\n",
              "        `(${file.type || 'n/a'}) - ${file.size} bytes, ` +\n",
              "        `last modified: ${\n",
              "            file.lastModifiedDate ? file.lastModifiedDate.toLocaleDateString() :\n",
              "                                    'n/a'} - `));\n",
              "    const percent = span('0% done');\n",
              "    li.appendChild(percent);\n",
              "\n",
              "    outputElement.appendChild(li);\n",
              "\n",
              "    const fileDataPromise = new Promise((resolve) => {\n",
              "      const reader = new FileReader();\n",
              "      reader.onload = (e) => {\n",
              "        resolve(e.target.result);\n",
              "      };\n",
              "      reader.readAsArrayBuffer(file);\n",
              "    });\n",
              "    // Wait for the data to be ready.\n",
              "    let fileData = yield {\n",
              "      promise: fileDataPromise,\n",
              "      response: {\n",
              "        action: 'continue',\n",
              "      }\n",
              "    };\n",
              "\n",
              "    // Use a chunked sending to avoid message size limits. See b/62115660.\n",
              "    let position = 0;\n",
              "    do {\n",
              "      const length = Math.min(fileData.byteLength - position, MAX_PAYLOAD_SIZE);\n",
              "      const chunk = new Uint8Array(fileData, position, length);\n",
              "      position += length;\n",
              "\n",
              "      const base64 = btoa(String.fromCharCode.apply(null, chunk));\n",
              "      yield {\n",
              "        response: {\n",
              "          action: 'append',\n",
              "          file: file.name,\n",
              "          data: base64,\n",
              "        },\n",
              "      };\n",
              "\n",
              "      let percentDone = fileData.byteLength === 0 ?\n",
              "          100 :\n",
              "          Math.round((position / fileData.byteLength) * 100);\n",
              "      percent.textContent = `${percentDone}% done`;\n",
              "\n",
              "    } while (position < fileData.byteLength);\n",
              "  }\n",
              "\n",
              "  // All done.\n",
              "  yield {\n",
              "    response: {\n",
              "      action: 'complete',\n",
              "    }\n",
              "  };\n",
              "}\n",
              "\n",
              "scope.google = scope.google || {};\n",
              "scope.google.colab = scope.google.colab || {};\n",
              "scope.google.colab._files = {\n",
              "  _uploadFiles,\n",
              "  _uploadFilesContinue,\n",
              "};\n",
              "})(self);\n",
              "</script> "
            ]
          },
          "metadata": {}
        },
        {
          "output_type": "stream",
          "name": "stdout",
          "text": [
            "Saving 3_2_fashion_10 sentences_English.mp3 to 3_2_fashion_10 sentences_English.mp3\n",
            "Saving 4_1__A-new-vaccineSI.mp3 to 4_1__A-new-vaccineSI.mp3\n",
            "Saving 4_2_A-new-vaccine10 sec.mp3 to 4_2_A-new-vaccine10 sec.mp3\n",
            "Saving 5_1_освітня реформа_10 речень_українська.mp3 to 5_1_освітня реформа_10 речень_українська.mp3\n",
            "Saving 5_2_educatrion reform_10sentences_English.mp3 to 5_2_educatrion reform_10sentences_English.mp3\n",
            "Saving 6_1_Клара _Кідалова_укр.mp3 to 6_1_Клара _Кідалова_укр.mp3\n",
            "Saving 6_1_плани післявоєнної рекунстукції 5 речень Українська.mp3 to 6_1_плани післявоєнної рекунстукції 5 речень Українська.mp3\n",
            "Saving 6_3_blogging.mp4 to 6_3_blogging.mp4\n",
            "Saving 7_1_спорт 5 речень українська.mp3 to 7_1_спорт 5 речень українська.mp3\n",
            "Saving 7_2_sports in 5 sentences English.mp3 to 7_2_sports in 5 sentences English.mp3\n",
            "Saving 8_1_Welcome speech.mp3 to 8_1_Welcome speech.mp3\n",
            "Saving 8_2_Welcome speec+.mp3 to 8_2_Welcome speec+.mp3\n",
            "Saving 8_2_укр монтессорі.webm to 8_2_укр монтессорі.webm\n",
            "Saving 8_3_Montessori_Микола_Engl.webm to 8_3_Montessori_Микола_Engl.webm\n",
            "Saving 8_4_Welcome speech_comments.mp3 to 8_4_Welcome speech_comments.mp3\n",
            "\n",
            "15 file(s) uploaded successfully.\n",
            "\n",
            "Loading Whisper model (base) on device: cpu ...\n"
          ]
        },
        {
          "output_type": "stream",
          "name": "stderr",
          "text": [
            "100%|████████████████████████████████████████| 139M/139M [00:00<00:00, 193MiB/s]\n"
          ]
        },
        {
          "output_type": "stream",
          "name": "stdout",
          "text": [
            "Model loaded successfully.\n",
            "\n",
            "Processing 5_2_educatrion reform_10sentences_English.mp3 (1/12)...\n",
            "Detected language: English\n"
          ]
        },
        {
          "output_type": "stream",
          "name": "stderr",
          "text": [
            "100%|██████████| 13208/13208 [00:24<00:00, 546.52frames/s]\n"
          ]
        },
        {
          "output_type": "stream",
          "name": "stdout",
          "text": [
            "  Segment 1/10 processed\n",
            "  Segment 2/10 processed\n",
            "  Segment 3/10 processed\n",
            "  Segment 4/10 processed\n",
            "  Segment 5/10 processed\n",
            "  Segment 6/10 processed\n",
            "  Segment 7/10 processed\n",
            "  Segment 8/10 processed\n",
            "  Segment 9/10 processed\n",
            "  Segment 10/10 processed\n",
            "✅ Saved: /content/mp3_output/5_2_educatrion reform_10sentences_English__pause.mp3\n",
            "\n",
            "Processing 7_2_sports in 5 sentences English.mp3 (2/12)...\n",
            "Detected language: English\n"
          ]
        },
        {
          "output_type": "stream",
          "name": "stderr",
          "text": [
            "100%|██████████| 6616/6616 [00:11<00:00, 570.45frames/s]\n"
          ]
        },
        {
          "output_type": "stream",
          "name": "stdout",
          "text": [
            "  Segment 1/5 processed\n",
            "  Segment 2/5 processed\n",
            "  Segment 3/5 processed\n",
            "  Segment 4/5 processed\n",
            "  Segment 5/5 processed\n",
            "✅ Saved: /content/mp3_output/7_2_sports in 5 sentences English__pause.mp3\n",
            "\n",
            "Processing 6_1_плани післявоєнної рекунстукції 5 речень Українська.mp3 (3/12)...\n",
            "Detected language: Ukrainian\n"
          ]
        },
        {
          "output_type": "stream",
          "name": "stderr",
          "text": [
            "100%|██████████| 6899/6899 [00:14<00:00, 462.08frames/s]\n"
          ]
        },
        {
          "output_type": "stream",
          "name": "stdout",
          "text": [
            "  Segment 1/5 processed\n",
            "  Segment 2/5 processed\n",
            "  Segment 3/5 processed\n",
            "  Segment 4/5 processed\n",
            "  Segment 5/5 processed\n",
            "✅ Saved: /content/mp3_output/6_1_плани післявоєнної рекунстукції 5 речень Українська__pause.mp3\n",
            "\n",
            "Processing 4_2_A-new-vaccine10 sec.mp3 (4/12)...\n",
            "Detected language: English\n"
          ]
        },
        {
          "output_type": "stream",
          "name": "stderr",
          "text": [
            "100%|██████████| 5802/5802 [00:11<00:00, 509.18frames/s]\n"
          ]
        },
        {
          "output_type": "stream",
          "name": "stdout",
          "text": [
            "  Segment 1/5 processed\n",
            "  Segment 2/5 processed\n",
            "  Segment 3/5 processed\n",
            "  Segment 4/5 processed\n",
            "  Segment 5/5 processed\n",
            "✅ Saved: /content/mp3_output/4_2_A-new-vaccine10 sec__pause.mp3\n",
            "\n",
            "Processing 8_2_Welcome speec+.mp3 (5/12)...\n",
            "Detected language: English\n"
          ]
        },
        {
          "output_type": "stream",
          "name": "stderr",
          "text": [
            "100%|██████████| 11795/11795 [00:30<00:00, 385.45frames/s]\n"
          ]
        },
        {
          "output_type": "stream",
          "name": "stdout",
          "text": [
            "  Segment 1/18 processed\n",
            "  Segment 2/18 processed\n",
            "  Segment 3/18 processed\n",
            "  Segment 4/18 processed\n",
            "  Segment 5/18 processed\n",
            "  Segment 6/18 processed\n",
            "  Segment 7/18 processed\n",
            "  Segment 8/18 processed\n",
            "  Segment 9/18 processed\n",
            "  Segment 10/18 processed\n",
            "  Segment 11/18 processed\n",
            "  Segment 12/18 processed\n",
            "  Segment 13/18 processed\n",
            "  Segment 14/18 processed\n",
            "  Segment 15/18 processed\n",
            "  Segment 16/18 processed\n",
            "  Segment 17/18 processed\n",
            "  Segment 18/18 processed\n",
            "✅ Saved: /content/mp3_output/8_2_Welcome speec+__pause.mp3\n",
            "\n",
            "Processing 7_1_спорт 5 речень українська.mp3 (6/12)...\n",
            "Detected language: Russian\n"
          ]
        },
        {
          "output_type": "stream",
          "name": "stderr",
          "text": [
            "100%|██████████| 6841/6841 [00:14<00:00, 459.22frames/s]\n"
          ]
        },
        {
          "output_type": "stream",
          "name": "stdout",
          "text": [
            "  Segment 1/8 processed\n",
            "  Segment 2/8 processed\n",
            "  Segment 3/8 processed\n",
            "  Segment 4/8 processed\n",
            "  Segment 5/8 processed\n",
            "  Segment 6/8 processed\n",
            "  Segment 7/8 processed\n",
            "  Segment 8/8 processed\n",
            "✅ Saved: /content/mp3_output/7_1_спорт 5 речень українська__pause.mp3\n",
            "\n",
            "Processing 8_4_Welcome speech_comments.mp3 (7/12)...\n",
            "Detected language: English\n"
          ]
        },
        {
          "output_type": "stream",
          "name": "stderr",
          "text": [
            "100%|██████████| 11795/11795 [00:29<00:00, 398.38frames/s]\n"
          ]
        },
        {
          "output_type": "stream",
          "name": "stdout",
          "text": [
            "  Segment 1/18 processed\n",
            "  Segment 2/18 processed\n",
            "  Segment 3/18 processed\n",
            "  Segment 4/18 processed\n",
            "  Segment 5/18 processed\n",
            "  Segment 6/18 processed\n",
            "  Segment 7/18 processed\n",
            "  Segment 8/18 processed\n",
            "  Segment 9/18 processed\n",
            "  Segment 10/18 processed\n",
            "  Segment 11/18 processed\n",
            "  Segment 12/18 processed\n",
            "  Segment 13/18 processed\n",
            "  Segment 14/18 processed\n",
            "  Segment 15/18 processed\n",
            "  Segment 16/18 processed\n",
            "  Segment 17/18 processed\n",
            "  Segment 18/18 processed\n",
            "✅ Saved: /content/mp3_output/8_4_Welcome speech_comments__pause.mp3\n",
            "\n",
            "Processing 4_1__A-new-vaccineSI.mp3 (8/12)...\n",
            "Detected language: English\n"
          ]
        },
        {
          "output_type": "stream",
          "name": "stderr",
          "text": [
            "100%|██████████| 1802/1802 [00:06<00:00, 274.19frames/s]\n"
          ]
        },
        {
          "output_type": "stream",
          "name": "stdout",
          "text": [
            "  Segment 1/5 processed\n",
            "  Segment 2/5 processed\n",
            "  Segment 3/5 processed\n",
            "  Segment 4/5 processed\n",
            "  Segment 5/5 processed\n",
            "✅ Saved: /content/mp3_output/4_1__A-new-vaccineSI__pause.mp3\n",
            "\n",
            "Processing 6_1_Клара _Кідалова_укр.mp3 (9/12)...\n",
            "Detected language: Ukrainian\n"
          ]
        },
        {
          "output_type": "stream",
          "name": "stderr",
          "text": [
            "100%|██████████| 15381/15381 [01:17<00:00, 198.46frames/s]\n"
          ]
        },
        {
          "output_type": "stream",
          "name": "stdout",
          "text": [
            "  Segment 1/53 processed\n",
            "  Segment 2/53 processed\n",
            "  Segment 3/53 processed\n",
            "  Segment 4/53 processed\n",
            "  Segment 5/53 processed\n",
            "  Segment 6/53 processed\n",
            "  Segment 7/53 processed\n",
            "  Segment 8/53 processed\n",
            "  Segment 9/53 processed\n",
            "  Segment 10/53 processed\n",
            "  Segment 11/53 processed\n",
            "  Segment 12/53 processed\n",
            "  Segment 13/53 processed\n",
            "  Segment 14/53 processed\n",
            "  Segment 15/53 processed\n",
            "  Segment 16/53 processed\n",
            "  Segment 17/53 processed\n",
            "  Segment 18/53 processed\n",
            "  Segment 19/53 processed\n",
            "  Segment 20/53 processed\n",
            "  Segment 21/53 processed\n",
            "  Segment 22/53 processed\n",
            "  Segment 23/53 processed\n",
            "  Segment 24/53 processed\n",
            "  Segment 25/53 processed\n",
            "  Segment 26/53 processed\n",
            "  Segment 27/53 processed\n",
            "  Segment 28/53 processed\n",
            "  Segment 29/53 processed\n",
            "  Segment 30/53 processed\n",
            "  Segment 31/53 processed\n",
            "  Segment 32/53 processed\n",
            "  Segment 33/53 processed\n",
            "  Segment 34/53 processed\n",
            "  Segment 35/53 processed\n",
            "  Segment 36/53 processed\n",
            "  Segment 37/53 processed\n",
            "  Segment 38/53 processed\n",
            "  Segment 39/53 processed\n",
            "  Segment 40/53 processed\n",
            "  Segment 41/53 processed\n",
            "  Segment 42/53 processed\n",
            "  Segment 43/53 processed\n",
            "  Segment 44/53 processed\n",
            "  Segment 45/53 processed\n",
            "  Segment 46/53 processed\n",
            "  Segment 47/53 processed\n",
            "  Segment 48/53 processed\n",
            "  Segment 49/53 processed\n",
            "  Segment 50/53 processed\n",
            "  Segment 51/53 processed\n",
            "  Segment 52/53 processed\n",
            "  Segment 53/53 processed\n",
            "✅ Saved: /content/mp3_output/6_1_Клара _Кідалова_укр__pause.mp3\n",
            "\n",
            "Processing 5_1_освітня реформа_10 речень_українська.mp3 (10/12)...\n",
            "Detected language: Russian\n"
          ]
        },
        {
          "output_type": "stream",
          "name": "stderr",
          "text": [
            "100%|██████████| 13940/13940 [00:32<00:00, 429.48frames/s]\n"
          ]
        },
        {
          "output_type": "stream",
          "name": "stdout",
          "text": [
            "  Segment 1/17 processed\n",
            "  Segment 2/17 processed\n",
            "  Segment 3/17 processed\n",
            "  Segment 4/17 processed\n",
            "  Segment 5/17 processed\n",
            "  Segment 6/17 processed\n",
            "  Segment 7/17 processed\n",
            "  Segment 8/17 processed\n",
            "  Segment 9/17 processed\n",
            "  Segment 10/17 processed\n",
            "  Segment 11/17 processed\n",
            "  Segment 12/17 processed\n",
            "  Segment 13/17 processed\n",
            "  Segment 14/17 processed\n",
            "  Segment 15/17 processed\n",
            "  Segment 16/17 processed\n",
            "  Segment 17/17 processed\n",
            "✅ Saved: /content/mp3_output/5_1_освітня реформа_10 речень_українська__pause.mp3\n",
            "\n",
            "Processing 3_2_fashion_10 sentences_English.mp3 (11/12)...\n",
            "Detected language: English\n"
          ]
        },
        {
          "output_type": "stream",
          "name": "stderr",
          "text": [
            "100%|██████████| 10811/10811 [00:22<00:00, 486.78frames/s]\n"
          ]
        },
        {
          "output_type": "stream",
          "name": "stdout",
          "text": [
            "  Segment 1/11 processed\n",
            "  Segment 2/11 processed\n",
            "  Segment 3/11 processed\n",
            "  Segment 4/11 processed\n",
            "  Segment 5/11 processed\n",
            "  Segment 6/11 processed\n",
            "  Segment 7/11 processed\n",
            "  Segment 8/11 processed\n",
            "  Segment 9/11 processed\n",
            "  Segment 10/11 processed\n",
            "  Segment 11/11 processed\n",
            "✅ Saved: /content/mp3_output/3_2_fashion_10 sentences_English__pause.mp3\n",
            "\n",
            "Processing 8_1_Welcome speech.mp3 (12/12)...\n",
            "Detected language: English\n"
          ]
        },
        {
          "output_type": "stream",
          "name": "stderr",
          "text": [
            "100%|██████████| 6296/6296 [00:19<00:00, 320.48frames/s]\n"
          ]
        },
        {
          "output_type": "stream",
          "name": "stdout",
          "text": [
            "  Segment 1/13 processed\n",
            "  Segment 2/13 processed\n",
            "  Segment 3/13 processed\n",
            "  Segment 4/13 processed\n",
            "  Segment 5/13 processed\n",
            "  Segment 6/13 processed\n",
            "  Segment 7/13 processed\n",
            "  Segment 8/13 processed\n",
            "  Segment 9/13 processed\n",
            "  Segment 10/13 processed\n",
            "  Segment 11/13 processed\n",
            "  Segment 12/13 processed\n",
            "  Segment 13/13 processed\n",
            "✅ Saved: /content/mp3_output/8_1_Welcome speech__pause.mp3\n",
            "\n",
            "🎉 All files processed successfully!\n",
            "\n",
            "Downloading all processed files as ZIP...\n"
          ]
        },
        {
          "output_type": "display_data",
          "data": {
            "text/plain": [
              "<IPython.core.display.Javascript object>"
            ],
            "application/javascript": [
              "\n",
              "    async function download(id, filename, size) {\n",
              "      if (!google.colab.kernel.accessAllowed) {\n",
              "        return;\n",
              "      }\n",
              "      const div = document.createElement('div');\n",
              "      const label = document.createElement('label');\n",
              "      label.textContent = `Downloading \"${filename}\": `;\n",
              "      div.appendChild(label);\n",
              "      const progress = document.createElement('progress');\n",
              "      progress.max = size;\n",
              "      div.appendChild(progress);\n",
              "      document.body.appendChild(div);\n",
              "\n",
              "      const buffers = [];\n",
              "      let downloaded = 0;\n",
              "\n",
              "      const channel = await google.colab.kernel.comms.open(id);\n",
              "      // Send a message to notify the kernel that we're ready.\n",
              "      channel.send({})\n",
              "\n",
              "      for await (const message of channel.messages) {\n",
              "        // Send a message to notify the kernel that we're ready.\n",
              "        channel.send({})\n",
              "        if (message.buffers) {\n",
              "          for (const buffer of message.buffers) {\n",
              "            buffers.push(buffer);\n",
              "            downloaded += buffer.byteLength;\n",
              "            progress.value = downloaded;\n",
              "          }\n",
              "        }\n",
              "      }\n",
              "      const blob = new Blob(buffers, {type: 'application/binary'});\n",
              "      const a = document.createElement('a');\n",
              "      a.href = window.URL.createObjectURL(blob);\n",
              "      a.download = filename;\n",
              "      div.appendChild(a);\n",
              "      a.click();\n",
              "      div.remove();\n",
              "    }\n",
              "  "
            ]
          },
          "metadata": {}
        },
        {
          "output_type": "display_data",
          "data": {
            "text/plain": [
              "<IPython.core.display.Javascript object>"
            ],
            "application/javascript": [
              "download(\"download_ad88c691-3c20-4f7f-894c-36d066658035\", \"processed_mp3_files.zip\", 10939576)"
            ]
          },
          "metadata": {}
        }
      ],
      "source": [
        "# 1️⃣ Install required packages\n",
        "!pip install -q pydub==0.25.1 torch torchaudio git+https://github.com/linto-ai/whisper-timestamped\n",
        "\n",
        "# 2️⃣ Import libraries\n",
        "import os\n",
        "from pydub import AudioSegment\n",
        "import whisper_timestamped as whisper\n",
        "import torch\n",
        "from google.colab import files\n",
        "import zipfile\n",
        "\n",
        "# 3️⃣ User configuration\n",
        "pause_seconds = 10               # pause length between segments\n",
        "model_size = \"base\"              # Whisper model: tiny/base/small/medium/large\n",
        "device = \"cuda\" if torch.cuda.is_available() else \"cpu\"\n",
        "pause_ms = pause_seconds * 1000\n",
        "\n",
        "# Create temporary folders in Colab\n",
        "input_folder = \"/content/mp3_input\"\n",
        "output_folder = \"/content/mp3_output\"\n",
        "os.makedirs(input_folder, exist_ok=True)\n",
        "os.makedirs(output_folder, exist_ok=True)\n",
        "\n",
        "# 4️⃣ Upload multiple MP3 files from your computer\n",
        "print(\"Select MP3 files to upload:\")\n",
        "uploaded = files.upload()  # opens file picker\n",
        "for filename in uploaded.keys():\n",
        "    os.rename(filename, os.path.join(input_folder, filename))\n",
        "\n",
        "print(f\"\\n{len(uploaded)} file(s) uploaded successfully.\\n\")\n",
        "\n",
        "# 5️⃣ Load Whisper model\n",
        "print(f\"Loading Whisper model ({model_size}) on device: {device} ...\")\n",
        "model = whisper.load_model(model_size, device=device)\n",
        "print(\"Model loaded successfully.\\n\")\n",
        "\n",
        "# 6️⃣ Process all uploaded MP3 files\n",
        "files_list = [f for f in os.listdir(input_folder) if f.lower().endswith(\".mp3\")]\n",
        "\n",
        "for idx, file_name in enumerate(files_list, 1):\n",
        "    print(f\"Processing {file_name} ({idx}/{len(files_list)})...\")\n",
        "\n",
        "    in_path = os.path.join(input_folder, file_name)\n",
        "    out_path = os.path.join(output_folder, os.path.splitext(file_name)[0] + \"__pause.mp3\")\n",
        "\n",
        "    try:\n",
        "        # Load audio\n",
        "        original = AudioSegment.from_file(in_path)\n",
        "        audio = whisper.load_audio(in_path)\n",
        "\n",
        "        # Transcribe audio\n",
        "        result = whisper.transcribe(model, audio, language=None)\n",
        "        segments = result.get(\"segments\", [])\n",
        "\n",
        "        # Prepare silent pauses\n",
        "        silence = AudioSegment.silent(duration=pause_ms)\n",
        "        final_audio = AudioSegment.empty()\n",
        "\n",
        "        if not segments:\n",
        "            print(\"⚠️ No segments detected, saving original file.\")\n",
        "            final_audio = original\n",
        "        else:\n",
        "            for i, seg in enumerate(segments):\n",
        "                start_ms = int(seg[\"start\"] * 1000)\n",
        "                end_ms = int(seg[\"end\"] * 1000)\n",
        "                chunk = original[start_ms:end_ms]\n",
        "                final_audio += chunk\n",
        "                if i != len(segments) - 1:\n",
        "                    final_audio += silence\n",
        "                print(f\"  Segment {i+1}/{len(segments)} processed\")\n",
        "\n",
        "        # Export processed file\n",
        "        final_audio.export(out_path, format=\"mp3\")\n",
        "        print(f\"✅ Saved: {out_path}\\n\")\n",
        "\n",
        "    except Exception as e:\n",
        "        print(f\"❌ Error processing {file_name}: {e}\")\n",
        "\n",
        "print(\"🎉 All files processed successfully!\\n\")\n",
        "\n",
        "# 7️⃣ Create a ZIP of all processed files\n",
        "zip_path = \"/content/processed_mp3_files.zip\"\n",
        "with zipfile.ZipFile(zip_path, 'w') as zipf:\n",
        "    for f in os.listdir(output_folder):\n",
        "        zipf.write(os.path.join(output_folder, f), arcname=f)\n",
        "\n",
        "# 8️⃣ Download the ZIP file\n",
        "print(\"Downloading all processed files as ZIP...\")\n",
        "files.download(zip_path)\n"
      ]
    }
  ]
}