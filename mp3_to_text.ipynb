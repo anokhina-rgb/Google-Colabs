{
  "nbformat": 4,
  "nbformat_minor": 0,
  "metadata": {
    "colab": {
      "provenance": [],
      "authorship_tag": "ABX9TyPgvtXHMYTlWFI5Msmhi1yB",
      "include_colab_link": true
    },
    "kernelspec": {
      "name": "python3",
      "display_name": "Python 3"
    },
    "language_info": {
      "name": "python"
    }
  },
  "cells": [
    {
      "cell_type": "markdown",
      "metadata": {
        "id": "view-in-github",
        "colab_type": "text"
      },
      "source": [
        "<a href=\"https://colab.research.google.com/github/anokhina-rgb/Google-Colabs/blob/main/mp3_to_text.ipynb\" target=\"_parent\"><img src=\"https://colab.research.google.com/assets/colab-badge.svg\" alt=\"Open In Colab\"/></a>"
      ]
    },
    {
      "cell_type": "code",
      "execution_count": null,
      "metadata": {
        "colab": {
          "base_uri": "https://localhost:8080/"
        },
        "id": "9deJOasYCzCa",
        "outputId": "89319b0f-cb68-44c7-b313-2c139035d483"
      },
      "outputs": [
        {
          "output_type": "stream",
          "name": "stdout",
          "text": [
            "\u001b[2K     \u001b[90m━━━━━━━━━━━━━━━━━━━━━━━━━━━━━━━━━━━━━━━\u001b[0m \u001b[32m803.2/803.2 kB\u001b[0m \u001b[31m1.9 MB/s\u001b[0m eta \u001b[36m0:00:00\u001b[0m\n",
            "\u001b[?25h  Installing build dependencies ... \u001b[?25l\u001b[?25hdone\n",
            "  Getting requirements to build wheel ... \u001b[?25l\u001b[?25hdone\n",
            "  Preparing metadata (pyproject.toml) ... \u001b[?25l\u001b[?25hdone\n",
            "\u001b[2K   \u001b[90m━━━━━━━━━━━━━━━━━━━━━━━━━━━━━━━━━━━━━━━━\u001b[0m \u001b[32m253.0/253.0 kB\u001b[0m \u001b[31m12.3 MB/s\u001b[0m eta \u001b[36m0:00:00\u001b[0m\n",
            "\u001b[?25h  Building wheel for openai-whisper (pyproject.toml) ... \u001b[?25l\u001b[?25hdone\n"
          ]
        }
      ],
      "source": [
        "# Install dependencies\n",
        "!pip install openai-whisper python-docx --quiet\n",
        "\n",
        "# Imports\n",
        "import whisper\n",
        "from docx import Document\n",
        "from google.colab import files\n",
        "import os\n",
        "from datetime import datetime\n",
        "\n",
        "# --- Helper functions ---\n",
        "def save_word(text, path):\n",
        "    doc = Document()\n",
        "    doc.add_paragraph(text)\n",
        "    doc.save(path)\n",
        "\n",
        "def download_file(path):\n",
        "    files.download(path)\n",
        "\n",
        "# --- Upload audio files ---\n",
        "print(\"Upload your MP3/WAV audio files (multiple selection allowed)\")\n",
        "uploaded = files.upload()  # Opens file picker\n",
        "\n",
        "audio_files = list(uploaded.keys())\n",
        "if not audio_files:\n",
        "    raise SystemExit(\"No files uploaded.\")\n",
        "\n",
        "# --- Load Whisper model ---\n",
        "print(\"Loading Whisper model...\")\n",
        "model = whisper.load_model(\"small\")  # You can change to base/medium/large\n",
        "print(\"Model loaded.\\n\")\n",
        "\n",
        "# --- Create folder for outputs ---\n",
        "output_folder = \"transcriptions_colab\"\n",
        "os.makedirs(output_folder, exist_ok=True)\n",
        "\n",
        "# --- Transcribe each file ---\n",
        "for idx, file in enumerate(audio_files, start=1):\n",
        "    print(f\"[{idx}/{len(audio_files)}] Transcribing: {file}\")\n",
        "    try:\n",
        "        result = model.transcribe(file)\n",
        "        text = result['text'].strip()\n",
        "\n",
        "        # Save TXT\n",
        "        txt_filename = os.path.join(output_folder, f\"{os.path.splitext(file)[0]}.txt\")\n",
        "        with open(txt_filename, \"w\", encoding=\"utf-8\") as f:\n",
        "            f.write(text)\n",
        "\n",
        "        # Save DOCX\n",
        "        docx_filename = os.path.join(output_folder, f\"{os.path.splitext(file)[0]}.docx\")\n",
        "        save_word(text, docx_filename)\n",
        "\n",
        "        print(f\"✅ Completed: {file}\")\n",
        "    except Exception as e:\n",
        "        print(f\"❌ Error transcribing {file}: {e}\")\n",
        "\n",
        "# --- Zip the output folder ---\n",
        "import shutil\n",
        "zip_filename = f\"transcriptions_{datetime.now().strftime('%Y%m%d_%H%M%S')}.zip\"\n",
        "shutil.make_archive(zip_filename.replace('.zip',''), 'zip', output_folder)\n",
        "print(f\"\\nAll transcriptions zipped as: {zip_filename}\")\n",
        "\n",
        "# --- Download ZIP ---\n",
        "files.download(zip_filename)\n"
      ]
    }
  ]
}